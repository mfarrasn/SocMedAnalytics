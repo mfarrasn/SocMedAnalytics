{
 "cells": [
  {
   "cell_type": "code",
   "execution_count": 37,
   "id": "dietary-poison",
   "metadata": {},
   "outputs": [
    {
     "name": "stdout",
     "output_type": "stream",
     "text": [
      "\n",
      "Arsenal             : 53   |   Aston Villa         : 29   |   Brighton            : 19   |   \n",
      "Burnley             : 23   |   Chelsea             : 44   |   Crystal Palace      : 19   |   \n",
      "Everton             : 29   |   Fulham              : 25   |   Leeds               : 32   |   \n",
      "Leicester           : 21   |   Liverpool           : 56   |   Man City            : 39   |   \n",
      "Man Utd             : 52   |   Newcastle           : 31   |   Sheff Utd           : 19   |   \n",
      "Southampton         : 22   |   Tottenham           : 40   |   West Brom           : 21   |   \n",
      "West Ham            : 22   |   Wolves              : 24   |   Atletico Madrid     : 48   |   \n",
      "Real Madrid         : 49   |   Barcelona           : 52   |   Sevilla             : 46   |   \n",
      "Sociedad            : 25   |   Villarreal          : 37   |   Real Betis          : 26   |   \n",
      "Granada             : 21   |   Athletic Bilbao     : 41   |   Levante             : 19   |   \n",
      "Celta Vigo          : 31   |   Cadiz               : 19   |   Valencia            : 45   |   \n",
      "Getafe              : 23   |   Alaves              : 21   |   Valladolid          : 19   |   \n",
      "Huesca              : 19   |   Elche               : 19   |   Eibar               : 19   |   \n",
      "Osasuna             : 24   |   Inter               : 53   |   AC Milan            : 47   |   \n",
      "Juventus            : 52   |   Atalanta            : 27   |   Napoli              : 40   |   \n",
      "Lazio               : 43   |   Roma                : 41   |   Sassuolo            : 20   |   \n",
      "Sampdoria           : 27   |   Verona              : 19   |   Bologna             : 25   |   \n",
      "Udinese             : 29   |   Fiorentina          : 38   |   Genoa               : 22   |   \n",
      "Spezia              : 19   |   Torino              : 25   |   Benevento           : 19   |   \n",
      "Cagliari            : 21   |   Parma               : 31   |   Lille               : 36   |   \n",
      "Paris Saint Germain : 38   |   Monaco              : 41   |   Lyon                : 48   |   \n",
      "Lens                : 33   |   Marseille           : 45   |   Rennes              : 30   |   \n",
      "Montpellier         : 22   |   Metz                : 22   |   Nice                : 28   |   \n",
      "Reims               : 21   |   Angers              : 19   |   St-Etienne          : 30   |   \n",
      "Strasbourg          : 26   |   Bordeaux            : 36   |   Lorient             : 19   |   \n",
      "Stade Brest         : 19   |   Nimes               : 19   |   Nantes              : 27   |   \n",
      "Arminia             : 17   |   Augsburg            : 19   |   B Dortmund          : 40   |   \n",
      "B Leverkusen        : 40   |   B M'gladbach        : 34   |   B Munich            : 48   |   \n",
      "Cologne             : 31   |   E Frankfurt         : 33   |   Freiburg            : 18   |   \n",
      "Hertha Berlin       : 27   |   Hoffenheim          : 20   |   Mainz               : 19   |   \n",
      "RB Leipzig          : 26   |   Schalke             : 35   |   Stuttgart           : 33   |   \n",
      "Union Berlin        : 17   |   W Bremen            : 39   |   Wolfsburg           : 30   |   \n",
      "30.040816326530614\n",
      "10.784454389373074\n"
     ]
    }
   ],
   "source": [
    "from pprint import pprint \n",
    "import matplotlib.pyplot as plt\n",
    "import numpy as nm\n",
    "\n",
    "# Calculates degree centrality for each vertex\n",
    "\n",
    "with open(\"edge_head_to_head.csv\", \"r\", encoding=\"utf-8\") as file:\n",
    "    file = file.readlines()\n",
    "    matches = [x.split(\",\")[1] for x in file][1:]+[x.split(\",\")[3] for x in file][1:]\n",
    "    \n",
    "    degrees = {}\n",
    "    for match in matches:\n",
    "        if match not in degrees: degrees[match] = 1\n",
    "        else: degrees[match] += 1\n",
    "            \n",
    "    acc = \"\"\n",
    "    counter = 0\n",
    "    for i in degrees:\n",
    "        if counter % 3 == 0: \n",
    "            print(acc)\n",
    "            acc = \"\"\n",
    "        acc += (i.ljust(19)+\" : \"+str(degrees[i]))+\"   |   \"\n",
    "        counter += 1\n",
    "    \n",
    "    deg_list = [degrees[x] for x in degrees]\n",
    "    print(sum(deg_list)/len(deg_list))\n",
    "    print(nm.std(deg_list))"
   ]
  },
  {
   "cell_type": "code",
   "execution_count": 26,
   "id": "vulnerable-shore",
   "metadata": {},
   "outputs": [
    {
     "name": "stdout",
     "output_type": "stream",
     "text": [
      "{'Arsenal': '9', 'Aston Villa': '11', 'Brighton': '16', 'Burnley': '17', 'Chelsea': '4', 'Crystal Palace': '13', 'Everton': '8', 'Fulham': '18', 'Leeds': '10', 'Leicester': '3', 'Liverpool': '7', 'Man City': '1', 'Man Utd': '2', 'Newcastle': '15', 'Sheff Utd': '20', 'Southampton': '14', 'Tottenham': '6', 'West Brom': '19', 'West Ham': '5', 'Wolves': '12', 'Inter': '1', 'AC Milan': '2', 'Juventus': '3', 'Atalanta': '4', 'Napoli': '5', 'Lazio': '6', 'Roma': '7', 'Sassuolo': '8', 'Sampdoria': '9', 'Verona': '10', 'Bologna': '11', 'Udinese': '12', 'Fiorentina': '13', 'Genoa': '14', 'Spezia': '15', 'Torino': '16', 'Benevento': '17', 'Cagliari': '18', 'Parma': '19', 'Crotone': '20', 'Arminia': '15', 'Augsburg': '12', 'B Dortmund': '5', 'B Leverkusen': '6', \"B M'gladbach\": '7', 'B Munich': '1', 'Cologne': '17', 'E Frankfurt': '4', 'Freiburg': '9', 'Hertha Berlin': '16', 'Hoffenheim': '11', 'Mainz': '13', 'RB Leipzig': '2', 'Schalke': '18', 'Stuttgart': '10', 'Union Berlin': '8', 'W Bremen': '14', 'Wolfsburg': '3', 'Lille': '1', 'Paris Saint Germain': '2', 'Monaco': '3', 'Lyon': '4', 'Lens': '5', 'Marseille': '6', 'Rennes': '7', 'Montpellier': '8', 'Metz': '9', 'Nice': '10', 'Reims': '11', 'Angers': '12', 'St-Etienne': '13', 'Strasbourg': '14', 'Bordeaux': '16', 'Lorient': '17', 'Stade Brest': '15', 'Nimes': '18', 'Nantes': '19', 'Dijon': '20', 'Atletico Madrid': '1', 'Real Madrid': '2', 'Barcelona': '3', 'Sevilla': '4', 'Sociedad': '5', 'Villarreal': '6', 'Real Betis': '7', 'Granada': '8', 'Athletic Bilbao': '10', 'Levante': '11', 'Celta Vigo': '12', 'Cadiz': '13', 'Valencia': '14', 'Getafe': '15', 'Alaves': '16', 'Valladolid': '17', 'Huesca': '18', 'Elche': '19', 'Eibar': '20', 'Osasuna': '9'}\n",
      "{'Arsenal': '549100000', 'Aston Villa': '379700000', 'Brighton': '248600000', 'Burnley': '130250000', 'Chelsea': '779800000', 'Crystal Palace': '203300000', 'Everton': '464500000', 'Fulham': '223100000', 'Leeds': '214650000', 'Leicester': '475900000', 'Liverpool': '1010000000', 'Man City': '1030000000', 'Man Utd': '717950000', 'Newcastle': '252700000', 'Sheff Utd': '152800000', 'Southampton': '250500000', 'Tottenham': '680800000', 'West Brom': '121250000', 'West Ham': '279750000', 'Wolves': '412100000', 'Inter': '618300000', 'AC Milan': '508800000', 'Juventus': '678100000', 'Atalanta': '381000000', 'Napoli': '533000000', 'Lazio': '344900000', 'Roma': '386850000', 'Sassuolo': '211850000', 'Sampdoria': '104900000', 'Verona': '155630000', 'Bologna': '140500000', 'Udinese': '142900000', 'Fiorentina': '195700000', 'Genoa': '88150000', 'Spezia': '60800000', 'Torino': '159400000', 'Benevento': '56050000', 'Cagliari': '183150000', 'Parma': '137550000', 'Crotone': '47950000', 'Arminia': '52650000', 'Augsburg': '101980000', 'B Dortmund': '581450000', 'B Leverkusen': '385400000', \"B M'gladbach\": '323450000', 'B Munich': '841600000', 'Cologne': '107150000', 'E Frankfurt': '227900000', 'Freiburg': '130380000', 'Hertha Berlin': '220000000', 'Hoffenheim': '237300000', 'Mainz': '92850000', 'RB Leipzig': '561780000', 'Schalke': '108430000', 'Stuttgart': '170500000', 'Union Berlin': '76300000', 'W Bremen': '103600000', 'Wolfsburg': '234050000', 'Lille': '297500000', 'Paris Saint Germain': '828950000', 'Monaco': '338800000', 'Lyon': '333450000', 'Lens': '95650000', 'Marseille': '224900000', 'Rennes': '230350000', 'Montpellier': '112300000', 'Metz': '85250000', 'Nice': '222050000', 'Reims': '97050000', 'Angers': '82400000', 'St-Etienne': '104600000', 'Strasbourg': '107200000', 'Bordeaux': '93300000', 'Lorient': '69730000', 'Stade Brest': '89080000', 'Nimes': '61550000', 'Nantes': '95300000', 'Dijon': '63880000', 'Atletico Madrid': '748000000', 'Real Madrid': '746000000', 'Barcelona': '823000000', 'Sevilla': '370000000', 'Sociedad': '346000000', 'Villarreal': '248000000', 'Real Betis': '199400000', 'Granada': '115900000', 'Athletic Bilbao': '219800000', 'Levante': '107500000', 'Celta Vigo': '129200000', 'Cadiz': '38700000', 'Valencia': '246700000', 'Getafe': '169500000', 'Alaves': '75000000', 'Valladolid': '647000000', 'Huesca': '545000000', 'Elche': '41000000', 'Eibar': '745000000', 'Osasuna': '83000000'}\n"
     ]
    }
   ],
   "source": [
    "import pandas\n",
    "\n",
    "# Fetch rank and market value datas\n",
    "with open(\"vertex_head_to_head.csv\", \"r\", encoding=\"utf-8\") as file:\n",
    "    file = file.readlines()\n",
    "    col_rank = {x.split(\",\")[1].strip(): x.split(\",\")[-1].strip() for x in file[1:]}\n",
    "    col_marketVal = {x.split(\",\")[1].strip(): x.split(\",\")[6] for x in file[1:]}\n",
    "\n",
    "print(col_rank)\n",
    "print(col_marketVal)"
   ]
  },
  {
   "cell_type": "code",
   "execution_count": 32,
   "id": "settled-motorcycle",
   "metadata": {},
   "outputs": [
    {
     "data": {
      "text/plain": [
       "<AxesSubplot:xlabel='market_value', ylabel='degree'>"
      ]
     },
     "execution_count": 32,
     "metadata": {},
     "output_type": "execute_result"
    },
    {
     "data": {
      "image/png": "[encoded data removed]",
      "text/plain": [
       "<Figure size 432x288 with 1 Axes>"
      ]
     },
     "metadata": {
      "needs_background": "light"
     },
     "output_type": "display_data"
    },
    {
     "data": {
      "image/png": "[encoded data removed]",
      "text/plain": [
       "<Figure size 432x288 with 1 Axes>"
      ]
     },
     "metadata": {
      "needs_background": "light"
     },
     "output_type": "display_data"
    }
   ],
   "source": [
    "# Create DataFrame of market_value and degrees\n",
    "\n",
    "sorted_clubs = sorted([deg for deg in degrees])\n",
    "rank_by_name = [int(col_rank[x]) for x in sorted_clubs]\n",
    "marketVal_by_name = [int(col_marketVal[x]) for x in sorted_clubs]\n",
    "deg_by_name = [degrees[x] for x in sorted(degrees)]\n",
    "\n",
    "df = pandas.DataFrame({\n",
    "    \"rank\": rank_by_name,\n",
    "    \"market_value\": marketVal_by_name,\n",
    "    \"degree\": deg_by_name\n",
    "}, index = sorted_clubs)\n",
    "\n",
    "df\n",
    "# plt.figure()\n",
    "df.plot.scatter(x=\"rank\",y=\"degree\")\n",
    "df.plot.scatter(x=\"market_value\", y=\"degree\")"
   ]
  },
  {
   "cell_type": "code",
   "execution_count": 13,
   "id": "average-syndicate",
   "metadata": {},
   "outputs": [
    {
     "name": "stdout",
     "output_type": "stream",
     "text": [
      "Correlation factor (market-deg): 0.6467710544984673\n",
      "Correlation factor (rank-deg): -0.6188090042764273\n"
     ]
    }
   ],
   "source": [
    "# Calculate correlation between market_value and degree\n",
    "\n",
    "print(\"Correlation factor (market-deg): \" + str(df[\"market_value\"].corr(df[\"degree\"])))\n",
    "print(\"Correlation factor (rank-deg): \" + str(df[\"rank\"].corr(df[\"degree\"])))"
   ]
  },
  {
   "cell_type": "code",
   "execution_count": null,
   "id": "postal-paint",
   "metadata": {},
   "outputs": [],
   "source": []
  }
 ],
 "metadata": {
  "kernelspec": {
   "display_name": "Python 3",
   "language": "python",
   "name": "python3"
  },
  "language_info": {
   "codemirror_mode": {
    "name": "ipython",
    "version": 3
   },
   "file_extension": ".py",
   "mimetype": "text/x-python",
   "name": "python",
   "nbconvert_exporter": "python",
   "pygments_lexer": "ipython3",
   "version": "3.8.3"
  }
 },
 "nbformat": 4,
 "nbformat_minor": 5
}
