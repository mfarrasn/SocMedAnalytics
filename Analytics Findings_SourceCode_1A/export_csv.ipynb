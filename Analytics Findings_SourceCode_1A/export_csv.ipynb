{
 "cells": [
  {
   "cell_type": "code",
   "execution_count": 18,
   "id": "hidden-connecticut",
   "metadata": {},
   "outputs": [
    {
     "name": "stdout",
     "output_type": "stream",
     "text": [
      "559\n"
     ]
    }
   ],
   "source": [
    "import copy\n",
    "from pprint import pprint\n",
    "\n",
    "with open(\"edge_head_to_head.csv\", \"r\", encoding=\"utf-8\") as file:\n",
    "    file = file.readlines()\n",
    "    matches = [[x.split(\",\")[1].strip(), x.split(\",\")[3].strip()] for x in file[1:]]\n",
    "    \n",
    "with open(\"vertex_head_to_head.csv\", \"r\", encoding=\"utf-8\") as file:\n",
    "    file = file.readlines()\n",
    "    countries = {x.split(\",\")[1].strip(): x.split(\",\")[-2].strip() for x in file[1:]}\n",
    "    matches_without_diff = copy.deepcopy(matches)\n",
    "    for match in matches:\n",
    "        if countries[match[0]] == countries[match[1]]: \n",
    "            matches_without_diff.remove(match)\n",
    "            \n",
    "pprint(len(matches_without_diff))"
   ]
  },
  {
   "cell_type": "code",
   "execution_count": 21,
   "id": "affecting-castle",
   "metadata": {},
   "outputs": [],
   "source": [
    "with open(\"edge_diff_league.csv\", \"w\", encoding=\"utf-8\") as file:\n",
    "    for i in matches_without_diff:\n",
    "        print(i[0]+\",\"+i[1],file=file)"
   ]
  },
  {
   "cell_type": "code",
   "execution_count": null,
   "id": "floral-colony",
   "metadata": {},
   "outputs": [],
   "source": []
  }
 ],
 "metadata": {
  "kernelspec": {
   "display_name": "Python 3",
   "language": "python",
   "name": "python3"
  },
  "language_info": {
   "codemirror_mode": {
    "name": "ipython",
    "version": 3
   },
   "file_extension": ".py",
   "mimetype": "text/x-python",
   "name": "python",
   "nbconvert_exporter": "python",
   "pygments_lexer": "ipython3",
   "version": "3.8.3"
  }
 },
 "nbformat": 4,
 "nbformat_minor": 5
}
